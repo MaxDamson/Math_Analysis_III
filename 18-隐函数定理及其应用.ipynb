{
 "cells": [
  {
   "cell_type": "markdown",
   "metadata": {},
   "source": [
    "### 隐函数定理及其应用"
   ]
  },
  {
   "cell_type": "markdown",
   "metadata": {},
   "source": [
    "#### 1. 重要定义"
   ]
  },
  {
   "cell_type": "markdown",
   "metadata": {},
   "source": [
    "- **隐函数**：设 $F(x,y)=0$，若对于任意的 $x\\in I$，在 $x$ 的某个邻域内，总存在**唯一**确定的 $y=f(x)$，使得 $F(x,f(x))=0$，则称 $y=f(x)$ 是方程 $F(x,y)=0$ 在 $I$ 上的一个隐函数。"
   ]
  },
  {
   "cell_type": "markdown",
   "metadata": {},
   "source": [
    "- **隐函数组**：设$F(x,y,u,v),G(x,y,u,v)$，若对于任意的 $(x,y)\\in D$，分别有区间落在$J$和$K$的唯一对$u\\in J,v\\in K$，使得$F(x,y,u,v)=0,G(x,y,u,v)=0$，则称其确定了一个定义在$D\\subset\\mathbb{R}^2$上，值域分别落在 $J$ 和 $K$ 的隐函数组。若记$u=f(x,y),v=g(x,y)$，则在$D$上有：\n",
    "$$\\begin{cases}F(x,y,f(x,y),g(x,y))=0\\\\G(x,y,f(x,y),g(x,y))=0\\end{cases}$$"
   ]
  },
  {
   "cell_type": "markdown",
   "metadata": {},
   "source": [
    "- **反函数组**：定义：设函数组$$ \\begin{cases} u= u( x, y)\\\\ v= v( x, y) & \\end{cases}\\tag{1}$$ 定义于 $xy$ 平面点集 $B\\subset\\mathbb{R}^2$ 上.则它确定了一个映射$T:B\\to\\mathbb{R}^2$,即 $(u,v)=T(x,y)$,或 $Q=T(P),P\\in B.$ 我们称$Q(u,v)$为映射$T$下$P(x,y)$的象，而$P$是$Q$的原象.记$B$在映射$T$下的象集为$$B^\\prime=T(B).$$如果$T$为**一一映射**，则每一点$Q(u,v)\\in B^\\prime$都存在惟一点$P(x,y)\\in B$\n",
    "与之对应，我们称这种映射关系为$T$的**逆映射**(逆变换),记作 $T^{-1}$,即 $T^{-1}( T(P) ) = P$, $T( T^{- 1}( Q) ) = Q.$ 或说存在定义在 $B^\\prime$ 上的函数组\n",
    "\n",
    "$$\n",
    "\\begin{cases}\n",
    "x= x( u, v) \\\\\n",
    "y= y( u, v) \n",
    "\\end{cases}\n",
    "\\tag{2}\n",
    "$$ \n",
    "$\\quad \\quad$使得$\\begin{cases}u\\equiv u(x|(u,v),y(u,v)),\\\\v\\equiv v(x|u,v),y(u,v)).\\end{cases}$\n",
    "此时称函数组 (2)为函数组 (1)的反函数组."
   ]
  },
  {
   "cell_type": "markdown",
   "metadata": {},
   "source": [
    "- **平面曲线的切线和法线**：设平面方程由$F(x,y)=0$该出，且在点$P_0(x_0,y_0)$的某邻域内满足**隐函数定理**，则它在$P_0$处，\n",
    "\n",
    "$\\quad\\quad$切线方程为$$F_x(x_0,y_0)(x-x_0)+F_y(x_0,y_0)(y-y_0)=0$$\n",
    "\n",
    "$\\quad\\quad$法线方程为$$F_y(x_0,y_0)(x-x_0)-F_x(x_0,y_0)(y-y_0)=0$$"
   ]
  },
  {
   "cell_type": "markdown",
   "metadata": {},
   "source": [
    "- **空间曲线的切线和法平面1**：设空间曲线的参数方程为：$$L:x=x(t),\\:y=y(t),\\:z=z(t),\\:\\alpha\\leq t\\leq\\beta,$$\n",
    "\n",
    "$\\quad\\quad$其中函数$x(t),y(t),z(t)$在$t=t_0\\in(\\alpha,\\beta)$的一个邻域内可微，且\n",
    "\n",
    "$$[x'(t_0)]^2+[y'(t_0)]^2+[z'(t_0)]^2\\neq0.$$\n",
    "\n",
    "$\\quad\\quad$令$P_0=(x_0,y_0,z_0)=(x(t_0),y(t_0),z(t_0))$,则曲线在$P_0$处的切线方程为\n",
    "\n",
    "$$\\frac{x-x_0}{x'(t_0)}=\\frac{y-y_0}{y'(t_0)}=\\frac{z-z_0}{z'(t_0)}.$$\n",
    "\n",
    "$\\quad\\quad$与切线相垂直的平面称为法平面，它的方程形式为\n",
    "\n",
    "$$x'(t_0)(x-x_0)+y'(t_0)(y-y_0)+z'(t_0)(z-z_0)=0.$$\n"
   ]
  },
  {
   "cell_type": "markdown",
   "metadata": {},
   "source": [
    " - **空间曲线的切线和法平面2**：设空间曲线由方程组\n",
    "$$\\begin{cases}F(x,y,z)=0\\\\G(x,y,z)=0\\end{cases}$$\n",
    "$\\quad \\quad$给出,并且在$P_0(x_0,y_0,z_0)$的某邻域内满足隐函数组定理的条件,不妨假设\n",
    "\n",
    "$$\\left.\\frac{\\partial(F,G)}{\\partial(x,y)}\\right|_{P_0}\\neq 0$$\n",
    "\n",
    "$\\quad \\quad$则在$P_0$附近能确定**唯一连续可微**的隐函数组$ x=\\varphi(z),\\quad y=\\psi(z)$\n",
    "\n",
    "$\\quad \\quad$且\n",
    "\n",
    "$$x_0=\\varphi(z_0),y_0=\\psi(z_0)$$\n",
    "\n",
    "$\\quad \\quad$那么曲线在$P_0$点的切线方程为\n",
    "$$\n",
    "\\begin{aligned}\\frac{x-x_0}{\\left.\\frac{\\partial(F,G)}{\\partial(y,z)}\\right|_{P_0}}\\bigg|_{P_0}&=\\frac{y-y_0}{\\left.\\frac{\\partial(F,G)}{\\partial(z,x)}\\right|_{P_0}}\\bigg|_{P_0}=\\frac{z-z_0}{\\left.\\frac{\\partial(F,G)}{\\partial(x,y)}\\right|_{P_0}},\\end{aligned} \n",
    "$$\n",
    "\n",
    "$\\quad \\quad$法平面方程为\n",
    "\n",
    "$$\\begin{aligned}&\\frac{\\partial(F,G)}{\\partial(y,z)}\\Big|_{P_0}(x-x_0)+\\frac{\\partial(F,G)}{\\partial(z,x)}\\Big|_{P_0}(y-y_0)+\\frac{\\partial(F,G)}{\\partial(x,y)}\\Big|_{P_0}(z-z_0)=0\\end{aligned}$$"
   ]
  },
  {
   "cell_type": "markdown",
   "metadata": {},
   "source": [
    "- **曲面的切平面和法线1**：曲面$z=f(x,y)$在点$P(x_0,y_0,f(x_0,y_0)$存在不平行于$z$轴的切平面的充分必要条件是函数$f$在点$p_0(x_0,y_0)$可微，且切平面方程为$$z-z_0=f_x(x_0,y_0)(x-x_0)+f_y(x_0,y_0)(y-y_0).$$法线方程为$$\\frac{x-x_0}{z_x(x_0,y_0)}=\\frac{y-y_0}{z_y(x_0,y_0)}=\\frac{z-z_0}{-1}.$$"
   ]
  },
  {
   "cell_type": "markdown",
   "metadata": {},
   "source": [
    "- **曲面的切平面和法线2**：设曲面由方程$F(x,y,z)=0$给出.它在$P_0(x_0,y_0,z_0)$的某邻域内满足隐函数定理条件，并且不妨假设$F_x(x_0,y_0,z_0)\\neq0$,即在$P_0$附近能确定唯一连续可微的隐函数$z=f(x,y)$, 且$z_0=f(x_0,y_0)$.那么，该曲面在$P_0$处的\n",
    "\n",
    "$\\quad\\quad$切平面方程为\n",
    "\n",
    "$$\\begin{aligned}F_x(x_0,y_0,z_0)(x-x_0)+F_y(x_0,y_0,z_0)(y-y_0)+F_z(x_0,y_0,z_0)(z-z_0)=0,\\end{aligned}$$ \n",
    "$\\quad\\quad$法线方程为 $$\\frac{x-x_0}{F_x(x_0,y_0,z_0)}=\\frac{y-y_0}{F_y(x_0,y_0,z_0)}=\\frac{z-z_0}{F_z(x_0,y_0,z_0)}.$$"
   ]
  },
  {
   "cell_type": "markdown",
   "metadata": {},
   "source": [
    "- **曲面的切平面和法线3**：设空间曲线由方程组$\\begin{cases}F(x,y,z)=0\\\\G(x,y,z)=0\\end{cases}$给出，并且在 $P_0(x_0,y_0,z_0)$ 的某邻域内满足**隐函数组定理**的条件，不妨假设\n",
    "\n",
    "$$ \\frac{\\partial(F,G)}{\\partial(x,y)}|_{P_0}\\neq 0$$\n",
    "\n",
    "$\\quad\\quad$则在$P_0$附近能确定**唯一连续可微**的隐函数组\n",
    "\n",
    "$$x=\\varphi(z),\\quad y=\\psi(z),$$\n",
    "\n",
    "$\\quad\\quad$且 $x_0=\\varphi(z_0),y_0=\\psi(z_0)$.那么切线方程的切向量和法平面方程的法向量\n",
    "为\n",
    "\n",
    "$$\\vec{n}=\\operatorname{grad}F\\times\\operatorname{grad}G=\\begin{vmatrix}i&j&k\\\\F_x&F_y&F_z\\\\G_x&G_y&G_z\\end{vmatrix},$$\n",
    "\n",
    "$\\quad\\quad$ 即经过 $P_0(x_0,y_0,z_0)$ 的切线为两个切平面的交."
   ]
  },
  {
   "cell_type": "markdown",
   "metadata": {},
   "source": [
    "- **条件极值问题求解方法**：设函数 $y=f(x_1,x_2,\\cdots,x_n)$ 定义在区域 $\\Omega$ 中并且可微，函数\n",
    "\n",
    "$$\\varphi_k(x_1,x_2,\\cdots,x_n),\\ 1\\leq k\\leq m$$\n",
    "\n",
    "$\\quad\\quad$在$\\Omega$中可微，若点$(x_1^0,x_2^0,\\cdots,x_n^0)$是函数$y=f(x_1,x_2,\\cdots,x_n)$在条件\n",
    "\n",
    "$$\\varphi_k(x_1,x_2,\\cdots,x_n)=0,k=1,2,\\cdots,m,\\ (m<n)$$\n",
    "\n",
    "$\\quad\\quad$下的极值点，且雅可比矩阵\n",
    "\n",
    "$$\\frac{\\partial(\\varphi_1,\\varphi_2,\\cdots,\\varphi_m)}{\\partial(x_1,x_2,\\cdots,x_n)},$$\n",
    "\n",
    "$\\quad\\quad$的秩为$m$,则存在一组常数$\\lambda_1,\\lambda_2,\\cdots,\\lambda_m$使得\n",
    "\n",
    "$$\\left.\\left(\\frac{\\partial f}{\\partial x_i}+\\sum_{k=1}^m\\lambda_k\\frac{\\partial\\varphi_k}{\\partial x_i}\\right)\\right|_{(x_1^0,\\cdots,x_n^0)}=0,\\quad i=1,2,\\cdots,n.$$\n",
    "\n",
    "$\\quad\\quad$即求解下述式子的稳定点（有可能为极值的点）：\n",
    "\n",
    "$$L=f(x_1,x_2,\\cdots,x_n)+\\sum_{k=1}^m\\lambda_k\\varphi_k(x_1,x_2,\\cdots,x_n).$$\n",
    "\n",
    "$\\quad\\quad$ （**技巧**：说明最值的时候，可以用理论外的方法，比如几何事实、函数的性质等）"
   ]
  },
  {
   "cell_type": "markdown",
   "metadata": {},
   "source": [
    "#### 2. 重要定理"
   ]
  },
  {
   "cell_type": "markdown",
   "metadata": {},
   "source": [
    "- **隐函数存在唯一性定理**（以一元$x$为例，可以拓展到多元($x_1,x_2,...,x_n$)，但是 $y$ 只能是一个）如果$F(x,y)$满足以下条件：\n",
    "    \n",
    "    1. $F(x_0,y_0)=0$；\n",
    "    \n",
    "    2. $F(x,y)$，$F_y(x,y)$ 在点 $(x_0,y_0)$ 的某个邻域内**连续**；\n",
    "    \n",
    "    3. $F_y(x_0,y_0)\\neq 0$；\n",
    "\n",
    "$\\quad\\quad$则方程 $F(x,y)=0$ 在点 $(x_0,y_0)$ 的在$x_0$的某个区间内有**唯一**确定的**连续**函数 $y=f(x)$。\n",
    "\n",
    "$\\quad\\quad$若进一步假设 $F_x(x,y)$ 连续，则函数$y=f(x)$有**连续导数**，且$$f'(x)=-\\frac{F_x(x,f(x))}{F_y(x,f(x))}$$ $\\quad\\quad$**注意**：前三个条件能确定有**连续**的函数 $y=f(x)$，如果要说明该函数**可导**，还需要说明$F_x$是连续的。"
   ]
  },
  {
   "cell_type": "markdown",
   "metadata": {},
   "source": [
    "- **Jacobi行列式**：对于隐函数组$$\\begin{cases}F(x,y,u,v)=0\\\\G(x,y,u,v)=0\\end{cases}$$其Jacobi行列式为$$J=\\frac{\\partial(F,G)}{\\partial(u,v)}\n",
    "=\\begin{vmatrix}F_u&F_v\\\\G_u&G_v\\end{vmatrix}$$\n",
    "\n",
    "\n",
    "- **隐函数组定理**：若满足以下四个条件：\n",
    "\n",
    "    1. $F(x,y,u,v)=0，G(x,y,u,v)=0$ 在点$P_0$的某邻域内**有定义**\n",
    "    \n",
    "    2. $F$,$G$ 在点 $P_0$ 的某邻域内 **连续**\n",
    "    \n",
    "    3. $F$,$G$ **所有** 一阶偏导在点 $P_0$ 的某邻域内 **连续**\n",
    "    \n",
    "    4. $J(P_0)\\neq 0$\n",
    "\n",
    "$\\quad\\quad$ 则点$P_0$的某邻域内能**唯一**确定在点$Q_0$某邻域的两个**连续隐函数**：$$u=f(x,y),v=g(x,y)$$\n",
    "\n",
    "$\\quad\\quad$ 使得在$Q_0$的某邻域内，有$$\\begin{cases}F(x,y,f(x,y),g(x,y))=0\\\\G(x,y,f(x,y),g(x,y))=0\\end{cases}$$\n",
    "\n",
    "$\\quad\\quad$ 且由$x,y$确定的$u,v$在该邻域内有连续偏导数，满足：$$\n",
    "\\begin{align*}\n",
    "\\frac{\\partial u}{\\partial x}&=-\\frac{\\partial (F,G)}{\\partial (x,v)}/J, &\\frac{\\partial u}{\\partial y}&=-\\frac{\\partial (F,G)}{\\partial (y,v)}/J\\\\\n",
    "\\frac{\\partial v}{\\partial x}&=-\\frac{\\partial (F,G)}{\\partial (u,x)}/J, &\\frac{\\partial v}{\\partial y}&=-\\frac{\\partial (F,G)}{\\partial (u,y)}/J\n",
    "\\end{align*}$$\n",
    "\n",
    "$\\quad\\quad$ （Tips：$u \\to x\\&y \\to v$ ，这样记忆）"
   ]
  },
  {
   "cell_type": "markdown",
   "metadata": {},
   "source": [
    "- **反函数组定理**：设函数组 $\\begin{cases} u= u( x, y) \\\\ v= v( x, y) & \\end{cases}$ 及其一阶偏导数在某区域 $D\\subset\\mathbb{R}^2$上 **连续**，点$P_0(x_0,y_0)$是$D$的**内点**，且 $$u_0=u(x_0,y_0),\\quad v_0=v(x_0,y_0),\\quad\\frac{\\partial(u,v)}{\\partial(x,y)}\\Big|_{P_0}\\neq0,$$ 则在$P^{\\prime}_0(u_0,v_0)$的某邻域$U(P^\\prime_0)$内有惟一的**连续可微**的反函数组，有\n",
    "$$\\begin{cases}x=x(u,v),\\\\y=y(u,v),\\end{cases}$$\n",
    "$\\quad \\quad$使得\n",
    "$$\\begin{cases}u\\equiv u(x(u,v),y(u,v)),\\\\v\\equiv v(x(u,v),y(u,v)).\\end{cases}$$\n",
    "$\\quad \\quad$并且有\n",
    "$$\\frac{\\partial(u,v)}{\\partial(x,y)}\\cdot\\frac{\\partial(x,y)}{\\partial(u,v)}=1.$$"
   ]
  },
  {
   "cell_type": "markdown",
   "metadata": {},
   "source": [
    "### 3. 重要技巧"
   ]
  },
  {
   "cell_type": "markdown",
   "metadata": {},
   "source": [
    "- **欧拉函数**：对于 **齐次** 函数$f(x_1,x_2,\\cdots,x_n)$，有$$\\sum_{i=1}^n\\frac{\\partial f}{\\partial x_i}x_i=nf.$$一个齐次函数的例子是$f(x,y)=x^2+xy+y^2$，具体技巧是证明：\n",
    "$$f(tx,ty)=t^2f(x,y)$$"
   ]
  }
 ],
 "metadata": {
  "language_info": {
   "name": "python"
  }
 },
 "nbformat": 4,
 "nbformat_minor": 2
}
